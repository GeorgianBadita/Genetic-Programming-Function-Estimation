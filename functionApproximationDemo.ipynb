{
 "cells": [
  {
   "cell_type": "markdown",
   "metadata": {},
   "source": [
    "## Demo for the function approximation using Genetic Programming\n",
    "\n",
    "-  Demo 1 - we will try to aproximate a simple function f(x) = n^3\n",
    "\n",
    "-  Demo 2 - we will try to aproximate a more complex function f(x) = sin(x) * (x)2\n",
    "\n",
    "##### Importing the libraries."
   ]
  },
  {
   "cell_type": "code",
   "execution_count": 1,
   "metadata": {},
   "outputs": [],
   "source": [
    "from Population import Population\n",
    "from Train import train\n",
    "import numpy as np\n",
    "from matplotlib import pyplot as plt\n",
    "import warnings\n",
    "warnings.filterwarnings('ignore')"
   ]
  },
  {
   "cell_type": "markdown",
   "metadata": {},
   "source": [
    "##### Define the binary and unary functions to be use, function tree characteristics and evolutionary algorithm hyper-parameters."
   ]
  },
  {
   "cell_type": "code",
   "execution_count": 2,
   "metadata": {},
   "outputs": [],
   "source": [
    "BINARY_FUNCTIONS = ['+','-','*','/']\n",
    "UNARY_FUNCTIONS = ['sin','cos','e^','ln','tg','tanh','abs']\n",
    "\n",
    "LEAF_CONSTANT_PROB = 0.2\n",
    "MAKE_LEAF_PROB = 0.6\n",
    "\n",
    "TREE_DEPTH = 6\n",
    "MAX_DEPTH = 20\n",
    "\n",
    "\n",
    "POPULATION = 4000\n",
    "EPOCH_COUNT = 4000\n",
    "FEEDBACK_EPOCH = 500"
   ]
  },
  {
   "cell_type": "markdown",
   "metadata": {},
   "source": [
    "#### Demo 1\n",
    "##### Creating a dataset based on function 𝑓 (𝑥) = 𝑛3"
   ]
  },
  {
   "cell_type": "code",
   "execution_count": 3,
   "metadata": {},
   "outputs": [],
   "source": [
    "f = lambda x: x**3\n",
    "\n",
    "X = [[x] for x in np.arange(-10,10,0.01)]\n",
    "Y = [f(x[0]) for x in X]"
   ]
  },
  {
   "cell_type": "markdown",
   "metadata": {},
   "source": [
    "##### Creating the population."
   ]
  },
  {
   "cell_type": "code",
   "execution_count": 4,
   "metadata": {},
   "outputs": [],
   "source": [
    "population = Population(size=POPULATION,varCount=len(X[0]))"
   ]
  },
  {
   "cell_type": "markdown",
   "metadata": {},
   "source": [
    "##### Training the population based on the X,Y dataset, for a set number of epochs."
   ]
  },
  {
   "cell_type": "code",
   "execution_count": 5,
   "metadata": {},
   "outputs": [
    {
     "name": "stdout",
     "output_type": "stream",
     "text": [
      "Evaluated chromosome 0.\n",
      "Evaluated chromosome 500.\n",
      "Evaluated chromosome 1000.\n",
      "Evaluated chromosome 1500.\n",
      "Evaluated chromosome 2000.\n",
      "Evaluated chromosome 2500.\n",
      "Evaluated chromosome 3000.\n",
      "Evaluated chromosome 3500.\n",
      "Epoch 0 genotype: ['*', 0, '*', 0, 0] loss: 4.534780620019787e-28\n",
      "Epoch 500 genotype: ['*', 0, '*', 0, 0] loss: 4.534780620019787e-28\n",
      "Epoch 1000 genotype: ['*', 0, '*', 0, 0] loss: 4.534780620019787e-28\n",
      "Epoch 1500 genotype: ['*', 0, '*', 0, 0] loss: 4.534780620019787e-28\n",
      "Epoch 2000 genotype: ['*', 0, '*', 0, 0] loss: 4.534780620019787e-28\n",
      "Epoch 2500 genotype: ['*', 0, '*', 0, 0] loss: 4.534780620019787e-28\n",
      "Epoch 3000 genotype: ['*', 0, '*', 0, 0] loss: 4.534780620019787e-28\n",
      "Epoch 3500 genotype: ['*', 0, '*', 0, 0] loss: 4.534780620019787e-28\n"
     ]
    }
   ],
   "source": [
    "train(population, EPOCH_COUNT, X,Y)"
   ]
  },
  {
   "cell_type": "markdown",
   "metadata": {},
   "source": [
    "##### Checking the minimum error from the population on the dataset (the error of the fittest chromosome).\n",
    "-  We observe that both the error, both the plot tell us that the function was wasy to replicate, since it was a basic function."
   ]
  },
  {
   "cell_type": "code",
   "execution_count": 6,
   "metadata": {},
   "outputs": [
    {
     "name": "stdout",
     "output_type": "stream",
     "text": [
      "MSE on test : 4.534780620019787e-28\n"
     ]
    }
   ],
   "source": [
    "best = population.getBest()\n",
    "best.eval(X,Y)\n",
    "print(\"MSE on test : \" + str(best.phenotype))"
   ]
  },
  {
   "cell_type": "markdown",
   "metadata": {},
   "source": [
    "##### The original function and the predicted have overlapping graphs, since we got a perfect estimation."
   ]
  },
  {
   "cell_type": "code",
   "execution_count": 7,
   "metadata": {},
   "outputs": [
    {
     "data": {
      "image/png": "[encoded data removed]",
      "text/plain": [
       "<Figure size 432x288 with 1 Axes>"
      ]
     },
     "metadata": {
      "needs_background": "light"
     },
     "output_type": "display_data"
    }
   ],
   "source": [
    "Ypred = [best.computeFunction(x)[0] for x in X]\n",
    "\n",
    "plt.plot([x[0] for x in X], Y, c = 'b',dashes=[6, 3], label='Initial function')\n",
    "plt.plot([x[0] for x in X], Ypred, c = 'r',dashes=[2,6], label = 'Predicted function')\n",
    "plt.legend()\n",
    "plt.show()"
   ]
  },
  {
   "cell_type": "markdown",
   "metadata": {},
   "source": [
    "#### Demo 2\n",
    "##### Creating a dataset based on function $f$$(x)$ = $\\sin$$(x)$ $*$ $(x)$$/$$2$"
   ]
  },
  {
   "cell_type": "code",
   "execution_count": 8,
   "metadata": {},
   "outputs": [],
   "source": [
    "f = lambda x: np.sin(x) * x/2\n",
    "\n",
    "X = [[x] for x in np.arange(0,10,0.01)]\n",
    "Y = [f(x[0]) for x in X]"
   ]
  },
  {
   "cell_type": "markdown",
   "metadata": {},
   "source": [
    "##### Creating the population."
   ]
  },
  {
   "cell_type": "code",
   "execution_count": 9,
   "metadata": {},
   "outputs": [],
   "source": [
    "population = Population(size=POPULATION,varCount=len(X[0]))"
   ]
  },
  {
   "cell_type": "markdown",
   "metadata": {},
   "source": [
    "##### Training the population based on the X,Y dataset, for a set number of epochs."
   ]
  },
  {
   "cell_type": "code",
   "execution_count": 10,
   "metadata": {},
   "outputs": [
    {
     "name": "stdout",
     "output_type": "stream",
     "text": [
      "Evaluated chromosome 0.\n",
      "Evaluated chromosome 500.\n",
      "Evaluated chromosome 1000.\n",
      "Evaluated chromosome 1500.\n",
      "Evaluated chromosome 2000.\n",
      "Evaluated chromosome 2500.\n",
      "Evaluated chromosome 3000.\n",
      "Evaluated chromosome 3500.\n",
      "Epoch 0 genotype: ['tg', 'sin', 0] loss: 0.6799457959679759\n",
      "Epoch 500 genotype: ['tg', 'sin', 0] loss: 0.6799457959679759\n",
      "Epoch 1000 genotype: ['tg', 'sin', 0] loss: 0.6799457959679759\n",
      "Epoch 1500 genotype: ['tg', 'sin', 0] loss: 0.6799457959679759\n",
      "Epoch 2000 genotype: ['tg', 'sin', 0] loss: 0.6799457959679759\n",
      "Epoch 2500 genotype: ['tg', 'sin', 0] loss: 0.6799457959679759\n",
      "Epoch 3000 genotype: ['tg', 'sin', 0] loss: 0.6799457959679759\n",
      "Epoch 3500 genotype: ['tg', 'sin', 0] loss: 0.6799457959679759\n"
     ]
    }
   ],
   "source": [
    "train(population, EPOCH_COUNT, X,Y)"
   ]
  },
  {
   "cell_type": "markdown",
   "metadata": {},
   "source": [
    "##### Checking the minimum error from the population on the dataset (the error of the fittest chromosome).\n",
    "-  We observe that both the error, both the plot tell us that, since the function was a more complex one, it wasn't that easy to predict exactly."
   ]
  },
  {
   "cell_type": "code",
   "execution_count": 11,
   "metadata": {},
   "outputs": [
    {
     "name": "stdout",
     "output_type": "stream",
     "text": [
      "MSE on test : 0.49762331932917003\n"
     ]
    }
   ],
   "source": [
    "best = population.getBest()\n",
    "best.eval(X,Y)\n",
    "print(\"MSE on test : \" + str(best.phenotype))"
   ]
  },
  {
   "cell_type": "markdown",
   "metadata": {},
   "source": [
    "##### The original function and the predicted have the same tendencies, being quite a good estimation for only 4000 epochs."
   ]
  },
  {
   "cell_type": "code",
   "execution_count": 12,
   "metadata": {},
   "outputs": [
    {
     "data": {
      "image/png": "[encoded data removed]",
      "text/plain": [
       "<Figure size 432x288 with 1 Axes>"
      ]
     },
     "metadata": {
      "needs_background": "light"
     },
     "output_type": "display_data"
    }
   ],
   "source": [
    "Ypred = [best.computeFunction(x)[0] for x in X]\n",
    "\n",
    "plt.plot([x[0] for x in X], Y, c = 'b',dashes=[6, 3], label='Initial function')\n",
    "plt.plot([x[0] for x in X], Ypred, c = 'r',dashes=[2,6], label = 'Predicted function')\n",
    "plt.legend()\n",
    "plt.show()"
   ]
  }
 ],
 "metadata": {
  "kernelspec": {
   "display_name": "Python 3",
   "language": "python",
   "name": "python3"
  },
  "language_info": {
   "codemirror_mode": {
    "name": "ipython",
    "version": 3
   },
   "file_extension": ".py",
   "mimetype": "text/x-python",
   "name": "python",
   "nbconvert_exporter": "python",
   "pygments_lexer": "ipython3",
   "version": "3.7.4"
  }
 },
 "nbformat": 4,
 "nbformat_minor": 2
}
